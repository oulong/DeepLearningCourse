{
 "cells": [
  {
   "cell_type": "markdown",
   "metadata": {},
   "source": [
    "# Breaking it Down\n",
    "1. 3 Steps to preprecessing a dateset: <br/>\n",
    "    > Cleaning <br/>\n",
    "    > Transformation <br/>\n",
    "    > Reduction <br/>\n",
    "2. Deep Learning:  Architecture engineering is the new feature engineering\n",
    "3. PCA is popular Dimensionality reduction technique that can be implemented with Scikit-learn"
   ]
  },
  {
   "cell_type": "markdown",
   "metadata": {},
   "source": [
    "### Data processing\n",
    "1. Normalize data(归一化)\n",
    "2. Compute Covariance Matrix(协方差)\n",
    "    <br/>Formula: $\\sum=\\frac{1}{n-1}((x-\\bar{x})^T(x-\\bar{x}))$\n",
    "3. Eigen Decomposition(特征分解)\n",
    "4. Create Projection Matrix\n",
    "5. Squash Features with Projection Matrix"
   ]
  }
 ],
 "metadata": {
  "kernelspec": {
   "display_name": "Python [Root]",
   "language": "python",
   "name": "Python [Root]"
  },
  "language_info": {
   "codemirror_mode": {
    "name": "ipython",
    "version": 3
   },
   "file_extension": ".py",
   "mimetype": "text/x-python",
   "name": "python",
   "nbconvert_exporter": "python",
   "pygments_lexer": "ipython3",
   "version": "3.5.2"
  }
 },
 "nbformat": 4,
 "nbformat_minor": 0
}
