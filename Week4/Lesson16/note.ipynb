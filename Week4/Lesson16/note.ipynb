{
 "cells": [
  {
   "cell_type": "markdown",
   "metadata": {},
   "source": [
    "**专业点**：\n",
    "<br/>\n",
    "Linear combination: <https://en.wikipedia.org/wiki/Linear_combination>\n",
    "<br/>\n",
    "Topological_sorting: <https://en.wikipedia.org/wiki/Topological_sorting>\n",
    "<br/>\n",
    "Perceptron: <https://en.wikipedia.org/wiki/Perceptron>"
   ]
  },
  {
   "cell_type": "markdown",
   "metadata": {},
   "source": [
    "**公式**：\n",
    "<br/>\n",
    "*SIGMOID*:\n",
    "$$sigmoid(x)=\\frac{1}{1+e^{-x}}$$\n",
    "<br/>\n",
    "*ERROR*:\n",
    "$$C(w,b) = \\frac{1}{m}\\sideset{}{_x ||y-a(x)||^2}\\sum$$\n",
    "- w: The collection of all weights in the network; \n",
    "- b: All the biases; \n",
    "- m: The total number of training examples;\n",
    "- a: The approximation of y(x) by the network,both a and y(x) are vectors of the sam length."
   ]
  },
  {
   "cell_type": "markdown",
   "metadata": {},
   "source": [
    "![photo_1]\n",
    "[photo_1]:https://s3.cn-north-1.amazonaws.com.cn/u-img/ab6f39dc-54db-4fc3-852b-b5ced001d6dc\n",
    "\n",
    "$$\\frac{\\partial{C}}{\\partial{w_2}}=\\frac{\\partial{C}}{\\partial{l_2}}\\frac{\\partial{l_2}}{\\partial{w_2}}$$ \n",
    "cost:\n",
    "$$C=\\frac{1}{m}\\sum_{x} (y(x) - l_2)^2$$\n",
    "$$l_2 = w_2\\cdot{s}+b$$\n",
    "<br/><br/>\n",
    "$$\\frac{\\partial{C}}{\\partial{l_2}}=\\frac{\\partial}{\\partial{l_2}}[\\frac{1}{m}\\sum_{x} (y(x) - l_2)^2] = \\frac{-2}{m}\\sum_{x} (y(x)-l_2)$$\n",
    "$$\\frac{\\partial{l_2}}{\\partial{w_2}}=\\frac{\\partial}{\\partial{w_2}}[w_2\\cdot{s} + b_2]=s$$\n",
    "<br/><br/>\n",
    "=> $$\\frac{\\partial{C}}{\\partial{w_2}}=\\frac{-2}{m}\\sum_{x} (y(x)-l_2)s$$\n",
    "![photo_2]\n",
    "[photo_2]:https://s3.cn-north-1.amazonaws.com.cn/u-img/73306b62-f273-410d-a072-055a75a24706\n",
    "$$\\frac{\\partial{C}}{\\partial{w_1}}=\\frac{\\partial{C}}{\\partial{l_2}}\\frac{\\partial{l_2}}{\\partial{s}}\\frac{\\partial{s}}{\\partial{l_1}}\\frac{\\partial{l_1}}{\\partial{w_1}}$$\n",
    "$$\\frac{\\partial{l_2}}{\\partial{s}}=\\frac{\\partial}{\\partial{s}}[w_2\\cdot{s}+b]=w_2$$\n",
    "$$\\frac{\\partial{s}}{\\partial{l_1}}=\\frac{\\partial}{\\partial{l_1}}f(l_1)=f'(l_1)=f(l_1)(1-f(l_1))$$\n",
    "$$\\frac{\\partial{l_1}}{\\partial{w_1}}=\\frac{\\partial}{\\partial{w_1}}[w_1\\cdot{x}+b_1]=x$$\n",
    "\n",
    "==>$$\\frac{\\partial{C}}{\\partial{w_1}}=\\frac{-2}{m}\\sum_{x} (y(x)-l_2)w_2f(l_1)(1-f(l_1))x$$"
   ]
  },
  {
   "cell_type": "markdown",
   "metadata": {},
   "source": [
    "#### Partial derivatives(偏导数):\n",
    "- [Khan Academy's lessons on partial derivatives](https://www.khanacademy.org/math/multivariable-calculus/multivariable-derivatives/partial-derivatives/v/partial-derivatives-introduction)\n",
    "- [gradient](https://www.khanacademy.org/math/multivariable-calculus/multivariable-derivatives/gradient-and-directional-derivatives/v/gradient)\n",
    "- [the chain rule](https://www.khanacademy.org/math/ap-calculus-ab/product-quotient-chain-rules-ab/chain-rule-ab/v/chain-rule-introduction)"
   ]
  }
 ],
 "metadata": {
  "anaconda-cloud": {},
  "kernelspec": {
   "display_name": "Python [Root]",
   "language": "python",
   "name": "Python [Root]"
  },
  "language_info": {
   "codemirror_mode": {
    "name": "ipython",
    "version": 3
   },
   "file_extension": ".py",
   "mimetype": "text/x-python",
   "name": "python",
   "nbconvert_exporter": "python",
   "pygments_lexer": "ipython3",
   "version": "3.5.2"
  }
 },
 "nbformat": 4,
 "nbformat_minor": 0
}
