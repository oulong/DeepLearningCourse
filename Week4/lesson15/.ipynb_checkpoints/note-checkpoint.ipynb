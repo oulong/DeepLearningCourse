{
 "cells": [
  {
   "cell_type": "markdown",
   "metadata": {},
   "source": [
    "## 数学基础"
   ]
  },
  {
   "cell_type": "markdown",
   "metadata": {},
   "source": [
    "1. 线性代数\n",
    "2. 统计学\n",
    "2. 微积分"
   ]
  },
  {
   "cell_type": "markdown",
   "metadata": {},
   "source": [
    "## 四个步骤"
   ]
  },
  {
   "cell_type": "markdown",
   "metadata": {},
   "source": [
    "1. 收集数据\n",
    "2. 建立模型\n",
    "3. 训练模型\n",
    "4. 测试模式"
   ]
  },
  {
   "cell_type": "markdown",
   "metadata": {},
   "source": [
    "<script type=\"text/javascript\" src=\"http://cdn.mathjax.org/mathjax/latest/MathJax.js?config=default\"></script>\n",
    "\n",
    "** Min max scaling **\n",
    "$$$$\\\\(z=\\frac{x-min(x)}{max(x)-min(x)}\\\\)\n",
    "\n",
    "\n",
    "\n"
   ]
  },
  {
   "cell_type": "markdown",
   "metadata": {},
   "source": [
    "可接受的数据模型：\n",
    "- Scalars : once value\n",
    "- Vectors : one-dimensional\n",
    "- Matrices : two-dimensional\n",
    "- Tensors : more-dimensional"
   ]
  },
  {
   "cell_type": "markdown",
   "metadata": {},
   "source": [
    "## Normalize during processing 线性代数在深度学习中的作用\n",
    "\n",
    "- Normalize\n",
    "- Learning \n",
    "- Initializing Weights\n",
    "- Forward Propagation\n",
    "- Calculate Error\n",
    "- Backpropagate"
   ]
  },
  {
   "cell_type": "code",
   "execution_count": null,
   "metadata": {
    "collapsed": true
   },
   "outputs": [],
   "source": [
    "import numpy as np"
   ]
  },
  {
   "cell_type": "code",
   "execution_count": null,
   "metadata": {
    "collapsed": true
   },
   "outputs": [],
   "source": [
    "# Collect data\n",
    "x = np.array([[0,0,1],\n",
    "             [0,1,1],\n",
    "             [1,0,1],\n",
    "             [1,1,1]])\n",
    "\n",
    "y = np.array([[0],\n",
    "             [1],\n",
    "             [1],\n",
    "             [0]])"
   ]
  },
  {
   "cell_type": "code",
   "execution_count": null,
   "metadata": {
    "collapsed": false
   },
   "outputs": [],
   "source": [
    "print(x)\n",
    "print(y)"
   ]
  },
  {
   "cell_type": "code",
   "execution_count": null,
   "metadata": {
    "collapsed": false
   },
   "outputs": [],
   "source": [
    "#build model\n",
    "num_epolls = 60000\n",
    "\n",
    "np.random.seed(1)\n",
    "\n",
    "#initialize weights\n",
    "syn0 = 2*np.random.random((3,4)) - 1\n",
    "syn1 = 2*np.random.random((4,1)) - 1"
   ]
  },
  {
   "cell_type": "code",
   "execution_count": null,
   "metadata": {
    "collapsed": false
   },
   "outputs": [],
   "source": [
    "print(syn0)"
   ]
  },
  {
   "cell_type": "code",
   "execution_count": null,
   "metadata": {
    "collapsed": false
   },
   "outputs": [],
   "source": [
    "print(syn1)"
   ]
  },
  {
   "cell_type": "code",
   "execution_count": null,
   "metadata": {
    "collapsed": true
   },
   "outputs": [],
   "source": [
    "def nonlin(x, deriv=False):\n",
    "    if deriv ==  True:\n",
    "        return x*(1-x)\n",
    "    else:\n",
    "        return 1/(1 + np.exp(-x))\n"
   ]
  },
  {
   "cell_type": "code",
   "execution_count": null,
   "metadata": {
    "collapsed": false
   },
   "outputs": [],
   "source": [
    "\n",
    "# Train model\n",
    "for i in range(num_epolls):\n",
    "    #feed forward through layers 0,1,2\n",
    "    L0 = x\n",
    "    L1 = nonlin(np.dot(L0, syn0))\n",
    "    L2 = nonlin(np.dot(L1, syn1))\n",
    "    \n",
    "    #how much did we miss the target value?\n",
    "    # error or cost\n",
    "    # to minize the error over time\n",
    "    # change weights to help minize error value\n",
    "    # calculate gradient(slope)\n",
    "    L2_error = y - L2\n",
    "    \n",
    "    if i%10000 == 0:\n",
    "        print(\"Error: \" + str(np.mean(np.abs(L2_error))))        \n",
    "    \n",
    "    #in what dierection is target value?\n",
    "    L2_delta = L2_error*nonlin(L2, True)\n",
    "    \n",
    "    #how much did each L1 value contribute to L2 error?\n",
    "    L1_error = L2_delta.dot(syn1.T)\n",
    "    \n",
    "    L1_delta = L1_error*nonlin(L1, True)\n",
    "    \n",
    "    syn1 += L1.T.dot(L2_delta)\n",
    "    syn0 += L0.T.dot(L1_delta)\n"
   ]
  },
  {
   "cell_type": "markdown",
   "metadata": {},
   "source": [
    "Jovian's Winning Code: <https://github.com/jovianlin/siraj-intro-to-DL-03/blob/master/Siraj%2003%20Challenge.ipynb>\n",
    "Vishal's Runner up Code"
   ]
  }
 ],
 "metadata": {
  "anaconda-cloud": {},
  "kernelspec": {
   "display_name": "Python [Root]",
   "language": "python",
   "name": "Python [Root]"
  },
  "language_info": {
   "codemirror_mode": {
    "name": "ipython",
    "version": 3
   },
   "file_extension": ".py",
   "mimetype": "text/x-python",
   "name": "python",
   "nbconvert_exporter": "python",
   "pygments_lexer": "ipython3",
   "version": "3.5.2"
  }
 },
 "nbformat": 4,
 "nbformat_minor": 0
}
